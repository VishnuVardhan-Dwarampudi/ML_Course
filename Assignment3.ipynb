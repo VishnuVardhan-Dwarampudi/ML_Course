{
 "cells": [
  {
   "cell_type": "code",
   "execution_count": 3,
   "metadata": {},
   "outputs": [
    {
     "name": "stdout",
     "output_type": "stream",
     "text": [
      "Division by zero exception\n"
     ]
    }
   ],
   "source": [
    "#Task1--1.1\n",
    "def test_func():\n",
    "    try:\n",
    "        print(5/0)\n",
    "    except:\n",
    "        print('Division by zero exception')\n",
    "test_func()"
   ]
  },
  {
   "cell_type": "code",
   "execution_count": 4,
   "metadata": {},
   "outputs": [
    {
     "name": "stdout",
     "output_type": "stream",
     "text": [
      "Americans play Baseball\n",
      "Americans play Cricket\n",
      "Americans watch Baseball\n",
      "Americans watch Cricket\n",
      "Indians play Baseball\n",
      "Indians play Cricket\n",
      "Indians watch Baseball\n",
      "Indians watch Cricket\n"
     ]
    }
   ],
   "source": [
    "#Task1--1.2\n",
    "subjects=[\"Americans\",\"Indians\"]\n",
    "verbs=[\"play\",\"watch\"]\n",
    "objects=[\"Baseball\",\"Cricket\"]\n",
    "for i in subjects:\n",
    "    for j in verbs:\n",
    "        for k in objects:\n",
    "            print(i+' '+j+' '+k)"
   ]
  },
  {
   "cell_type": "code",
   "execution_count": 14,
   "metadata": {},
   "outputs": [
    {
     "name": "stdout",
     "output_type": "stream",
     "text": [
      "Enter the vector--2,4,6,8\n",
      "Increasing? 1--True or 0--False-->0\n",
      "[1, 2, 4, 8]\n",
      "[1, 4, 16, 64]\n",
      "[1, 6, 36, 216]\n",
      "[1, 8, 64, 512]\n"
     ]
    }
   ],
   "source": [
    "#Task2\n",
    "def is_increasing():#function to take boolean input\n",
    "    try:\n",
    "        h= int(input(\"Increasing? 1--True or 0--False-->\"))\n",
    "        if(h==1):\n",
    "            return True\n",
    "        elif(h==0):\n",
    "            return False\n",
    "        else:\n",
    "            is_increasing()\n",
    "    except:\n",
    "        is_increasing()\n",
    "def my_vander(col,increasing):#function to print Alexandre- Theophile Vandermonde. matrix from given vector\n",
    "    N=len(col)\n",
    "    if increasing:\n",
    "        O_M=[[k**(N-i-1) for i in range(0,N,1)]for k in col]\n",
    "    else:\n",
    "        O_M=[[k**i for i in range(0,N,1)]for k in col]\n",
    "    for i in O_M:\n",
    "        print(i)\n",
    "    \n",
    "x=[int(i) for i in input(\"Enter the vector--\").split(',')]\n",
    "increasing=is_increasing()\n",
    "my_vander(x,increasing)"
   ]
  },
  {
   "cell_type": "code",
   "execution_count": null,
   "metadata": {},
   "outputs": [],
   "source": []
  }
 ],
 "metadata": {
  "kernelspec": {
   "display_name": "Python 3",
   "language": "python",
   "name": "python3"
  },
  "language_info": {
   "codemirror_mode": {
    "name": "ipython",
    "version": 3
   },
   "file_extension": ".py",
   "mimetype": "text/x-python",
   "name": "python",
   "nbconvert_exporter": "python",
   "pygments_lexer": "ipython3",
   "version": "3.7.3"
  }
 },
 "nbformat": 4,
 "nbformat_minor": 2
}
