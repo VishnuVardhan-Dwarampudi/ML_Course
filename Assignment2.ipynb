{
 "cells": [
  {
   "cell_type": "code",
   "execution_count": 7,
   "metadata": {},
   "outputs": [
    {
     "name": "stdout",
     "output_type": "stream",
     "text": [
      "45\n",
      "45\n"
     ]
    }
   ],
   "source": [
    "#Task1--1.1\n",
    "def test(a,b):\n",
    "    return a+b\n",
    "def myreduce(func_name,ele_list):\n",
    "    while len(ele_list)>1:\n",
    "        i=eval(func_name)(ele_list[0],ele_list[1])\n",
    "        ele_list[1]=i\n",
    "        del ele_list[0]\n",
    "    return ele_list[0]\n",
    "\n",
    "ele_list = [1,2,3,4,5,6,7,8,9]\n",
    "f_name='test'\n",
    "print(myreduce(f_name,ele_list))\n",
    "print(myreduce((lambda x, y: x + y),ele_list))"
   ]
  },
  {
   "cell_type": "code",
   "execution_count": 5,
   "metadata": {},
   "outputs": [
    {
     "name": "stdout",
     "output_type": "stream",
     "text": [
      "[3, 4, 5, 6, 7, 8, 9]\n"
     ]
    }
   ],
   "source": [
    "#Task1--1.2\n",
    "def test(a):\n",
    "    if a>2:\n",
    "        return True\n",
    "    else:\n",
    "        return False\n",
    "def myfilter(func_name,ele_list):\n",
    "    #result=[]\n",
    "    for i in ele_list[:]:\n",
    "        if not(eval(func_name)(i)):\n",
    "            #print(i,eval(func_name)(i))\n",
    "            ele_list.remove(i)\n",
    "    return ele_list\n",
    "ele_list = [1,2,3,4,5,6,7,8,9,2]\n",
    "f_name='test'\n",
    "print(myfilter(f_name,ele_list))"
   ]
  },
  {
   "cell_type": "code",
   "execution_count": 19,
   "metadata": {},
   "outputs": [
    {
     "name": "stdout",
     "output_type": "stream",
     "text": [
      "1...ACADGILD-->['A', 'C', 'A', 'D', 'G', 'I', 'L', 'D']\n",
      "2...['x', 'xx', 'xxx', 'xxxx', 'y', 'yy', 'yyy', 'yyyy', 'z', 'zz', 'zzz', 'zzzz']\n",
      "3...['x', 'y', 'z', 'xx', 'yy', 'zz', 'xxx', 'yyy', 'zzz', 'xxxx', 'yyyy', 'zzzz']\n",
      "4...[[2], [3], [4], [3], [4], [5], [4], [5], [6]]\n",
      "5...[[2, 3, 4, 5], [3, 4, 5, 6], [4, 5, 6, 7], [5, 6, 7, 8]]\n",
      "6...[(1, 1), (2, 1), (3, 1), (1, 2), (2, 2), (3, 2), (1, 3), (2, 3), (3, 3)]\n"
     ]
    }
   ],
   "source": [
    "#Task1--2\n",
    "#['A', 'C', 'A', 'D', 'G', 'I', ’L’, ‘ D’]\n",
    "lst1=['Apple','Car','Air','Data','God','Improve','Love','Door']\n",
    "alphabets=[word[0] for word in lst1]\n",
    "print(f'1...ACADGILD-->{alphabets}')\n",
    "\n",
    "#['x', 'xx', 'xxx', 'xxxx', 'y', 'yy', 'yyy', 'yyyy', 'z', 'zz', 'zzz', 'zzzz']\n",
    "lst=['x','y','z']\n",
    "lst2=[i*j for i in lst for j in range(1,5)]\n",
    "print(f'2...{lst2}')\n",
    "\n",
    "#['x', 'y', 'z', 'xx', 'yy', 'zz', 'xx', 'yy', 'zz', 'xxxx', 'yyyy', 'zzzz']\n",
    "lst3=[i*j for i in range(1,5) for j in lst]\n",
    "print(f'3...{lst3}')\n",
    "\n",
    "#[[2], [3], [4], [3], [4], [5], [4], [5], [6]]\n",
    "nums_lst=[[i+j] for j in range(2,5) for i in range(0,3)]\n",
    "print(f'4...{nums_lst}')\n",
    "\n",
    "#[[2, 3, 4, 5], [3, 4, 5, 6], [4, 5, 6, 7], [5, 6, 7, 8]]\n",
    "nums_lst2=[[i+j for i in range(2,6)] for j in range(0,4)]\n",
    "print(f'5...{nums_lst2}')\n",
    "\n",
    "#[(1, 1), (2, 1), (3, 1), (1, 2), (2, 2), (3, 2), (1, 3), (2, 3), (3, 3)]\n",
    "tup_lst=[(i,j) for j in range(1,4) for i in range(1,4)]\n",
    "print(f'6...{tup_lst}')"
   ]
  },
  {
   "cell_type": "code",
   "execution_count": null,
   "metadata": {},
   "outputs": [],
   "source": [
    "#Task1--3\n",
    "def longestWord(words):\n",
    "    wordlength = 0\n",
    "    longword=''\n",
    "    for i in words:\n",
    "        if len(i)>wordlength:\n",
    "            longword=i\n",
    "            wordlength = len(i)\n",
    "    return longword\n",
    "words=input('Enter comma seperated list of words--').split(',')\n",
    "print(longestWord(words))"
   ]
  },
  {
   "cell_type": "code",
   "execution_count": 34,
   "metadata": {},
   "outputs": [
    {
     "name": "stdout",
     "output_type": "stream",
     "text": [
      "10,9,8\n",
      "13.5\n"
     ]
    },
    {
     "data": {
      "text/plain": [
       "34.197039345533994"
      ]
     },
     "execution_count": 34,
     "metadata": {},
     "output_type": "execute_result"
    }
   ],
   "source": [
    "#Task2--1.1\n",
    "class Triangle(object):\n",
    "    def __init__(self,a=0,b=0,c=0):\n",
    "        self.a=a\n",
    "        self.b=b\n",
    "        self.c=c\n",
    "        \n",
    "class subtriangle(Triangle):\n",
    "    p=0\n",
    "    area=0\n",
    "    def __init__(self,a=0,b=0,c=0):\n",
    "        Triangle.__init__(self,a,b,c)\n",
    "    def area(self,a,b,c):\n",
    "        print(f'{a},{b},{c}')\n",
    "        p=(a+b+c)/2\n",
    "        print(p)\n",
    "        area = (p*(p-a)*(p-b)*(p-c))**0.5\n",
    "        return area\n",
    "\n",
    "tri = subtriangle()\n",
    "tri.area(10,9,8)"
   ]
  },
  {
   "cell_type": "code",
   "execution_count": 35,
   "metadata": {},
   "outputs": [
    {
     "name": "stdout",
     "output_type": "stream",
     "text": [
      "Enter comma seperated list of words--vishnu,vardhan,reddy\n",
      "Enter value for n--5\n",
      "['vishnu', 'vardhan']\n"
     ]
    }
   ],
   "source": [
    "#Task2--1.2\n",
    "def filter_long_words(words,n):\n",
    "    longword=[]\n",
    "    for i in words:\n",
    "        if len(i)>n:\n",
    "            longword.append(i)\n",
    "    return longword\n",
    "words=input('Enter comma seperated list of words--').split(',')\n",
    "n = int(input('Enter value for n--'))\n",
    "print(filter_long_words(words,n))"
   ]
  },
  {
   "cell_type": "code",
   "execution_count": 36,
   "metadata": {},
   "outputs": [
    {
     "name": "stdout",
     "output_type": "stream",
     "text": [
      "Enter comma seperated list of words--vishnu,vardhan,reddy\n",
      "[6, 7, 5]\n"
     ]
    }
   ],
   "source": [
    "#Task2--2.1\n",
    "def length_func(words):\n",
    "    lengths=[]\n",
    "    for i in words:\n",
    "        lengths.append(len(i))\n",
    "    return lengths\n",
    "words=input('Enter comma seperated list of words--').split(',')\n",
    "print(length_func(words))"
   ]
  },
  {
   "cell_type": "code",
   "execution_count": 37,
   "metadata": {},
   "outputs": [
    {
     "name": "stdout",
     "output_type": "stream",
     "text": [
      "Enter letter to check if vowel--v\n",
      "False\n"
     ]
    }
   ],
   "source": [
    "#Task2--2.2\n",
    "def isvowel(letter):\n",
    "    vowels=['a','e','i','o','u']\n",
    "    if letter.lower() in vowels:\n",
    "        return True\n",
    "    else:\n",
    "        return False\n",
    "letter=input('Enter letter to check if vowel--').rstrip(' ')\n",
    "print(isvowel(letter))"
   ]
  },
  {
   "cell_type": "code",
   "execution_count": null,
   "metadata": {},
   "outputs": [],
   "source": []
  }
 ],
 "metadata": {
  "kernelspec": {
   "display_name": "Python 3",
   "language": "python",
   "name": "python3"
  },
  "language_info": {
   "codemirror_mode": {
    "name": "ipython",
    "version": 3
   },
   "file_extension": ".py",
   "mimetype": "text/x-python",
   "name": "python",
   "nbconvert_exporter": "python",
   "pygments_lexer": "ipython3",
   "version": "3.7.3"
  }
 },
 "nbformat": 4,
 "nbformat_minor": 2
}
